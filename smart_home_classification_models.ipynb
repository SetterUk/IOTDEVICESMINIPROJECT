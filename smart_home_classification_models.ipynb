{
 "cells": [
  {
   "cell_type": "code",
   "execution_count": null,
   "metadata": {},
   "outputs": [],
   "source": [
    "# Import necessary libraries\n",
    "import pandas as pd\n",
    "import numpy as np\n",
    "import matplotlib.pyplot as plt\n",
    "import seaborn as sns\n",
    "from sklearn.model_selection import train_test_split, GridSearchCV, RandomizedSearchCV, cross_val_score, StratifiedKFold\n",
    "from sklearn.metrics import accuracy_score, precision_score, recall_score, f1_score, roc_auc_score, confusion_matrix, roc_curve, classification_report\n",
    "from sklearn.linear_model import LogisticRegression\n",
    "from sklearn.tree import DecisionTreeClassifier\n",
    "from sklearn.ensemble import RandomForestClassifier, GradientBoostingClassifier\n",
    "from sklearn.svm import SVC\n",
    "from sklearn.neighbors import KNeighborsClassifier\n",
    "from sklearn.naive_bayes import GaussianNB\n",
    "from xgboost import XGBClassifier\n",
    "from sklearn.neural_network import MLPClassifier\n",
    "from catboost import CatBoostClassifier\n",
    "import joblib\n",
    "import warnings\n",
    "warnings.filterwarnings('ignore')\n",
    "\n",
    "# Set random seed\n",
    "np.random.seed(42)"
   ]
  },
  {
   "cell_type": "code",
   "execution_count": null,
   "metadata": {},
   "outputs": [],
   "source": [
    "# Load preprocessed data\n",
    "data = pd.read_csv('processed_smart_home_data.csv', index_col=0)\n",
    "print(f\"Data shape: {data.shape}\")\n",
    "print(data.head())\n",
    "\n",
    "# The target is 'efficiency', but for classification, we need to create categories\n",
    "# Let's create a binary classification: efficient (1) if efficiency > median, else 0\n",
    "median_efficiency = data['efficiency'].median()\n",
    "data['efficiency_class'] = (data['efficiency'] > median_efficiency).astype(int)\n",
    "\n",
    "# Features and target\n",
    "X = data.drop(['efficiency', 'efficiency_class'], axis=1)\n",
    "y = data['efficiency_class']\n",
    "\n",
    "print(f\"Features shape: {X.shape}\")\n",
    "print(f\"Target distribution: {y.value_counts()}\")"
   ]
  },
  {
   "cell_type": "code",
   "execution_count": null,
   "metadata": {},
   "outputs": [],
   "source": [
    "# Split data into train and test sets\n",
    "X_train, X_test, y_train, y_test = train_test_split(X, y, test_size=0.2, random_state=42, stratify=y)\n",
    "print(f\"Train shape: {X_train.shape}, Test shape: {X_test.shape}\")"
   ]
  },
  {
   "cell_type": "code",
   "execution_count": null,
   "metadata": {},
   "outputs": [],
   "source": [
    "# Function to evaluate model\n",
    "def evaluate_model(model, X_test, y_test, model_name):\n",
    "    y_pred = model.predict(X_test)\n",
    "    y_pred_proba = model.predict_proba(X_test)[:, 1] if hasattr(model, 'predict_proba') else None\n",
    "    \n",
    "    metrics = {\n",
    "        'accuracy': accuracy_score(y_test, y_pred),\n",
    "        'precision': precision_score(y_test, y_pred),\n",
    "        'recall': recall_score(y_test, y_pred),\n",
    "        'f1': f1_score(y_test, y_pred),\n",
    "        'roc_auc': roc_auc_score(y_test, y_pred_proba) if y_pred_proba is not None else None\n",
    "    }\n",
    "    \n",
    "    print(f\"\\n{model_name} Results:\")\n",
    "    for metric, value in metrics.items():\n",
    "        if value is not None:\n",
    "            print(f\"{metric.capitalize()}: {value:.4f}\")\n",
    "    \n",
    "    return metrics, y_pred, y_pred_proba\n",
    "\n",
    "# Function to plot confusion matrix\n",
    "def plot_confusion_matrix(y_test, y_pred, model_name):\n",
    "    cm = confusion_matrix(y_test, y_pred)\n",
    "    plt.figure(figsize=(6, 4))\n",
    "    sns.heatmap(cm, annot=True, fmt='d', cmap='Blues')\n",
    "    plt.title(f'Confusion Matrix - {model_name}')\n",
    "    plt.ylabel('Actual')\n",
    "    plt.xlabel('Predicted')\n",
    "    plt.savefig(f'confusion_matrix_{model_name.lower().replace(\" \", \"_\")}.png')\n",
    "    plt.show()\n",
    "\n",
    "# Function to plot ROC curve\n",
    "def plot_roc_curve(y_test, y_pred_proba, model_name):\n",
    "    if y_pred_proba is not None:\n",
    "        fpr, tpr, _ = roc_curve(y_test, y_pred_proba)\n",
    "        plt.figure(figsize=(6, 4))\n",
    "        plt.plot(fpr, tpr, label=f'{model_name} (AUC = {roc_auc_score(y_test, y_pred_proba):.4f})')\n",
    "        plt.plot([0, 1], [0, 1], 'k--')\n",
    "        plt.xlabel('False Positive Rate')\n",
    "        plt.ylabel('True Positive Rate')\n",
    "        plt.title(f'ROC Curve - {model_name}')\n",
    "        plt.legend()\n",
    "        plt.savefig(f'roc_curve_{model_name.lower().replace(\" \", \"_\")}.png')\n",
    "        plt.show()\n",
    "\n",
    "# Dictionary to store results\n",
    "results = {}\n",
    "models = {}"
   ]
  }
 ],
 "metadata": {
  {
   "cell_type": "code",
   "execution_count": null,
   "metadata": {},
   "outputs": [],
   "source": [
    "# Logistic Regression\n",
    "print(\"Training Logistic Regression...\")\n",
    "lr_params = {'C': [0.1, 1, 10, 100], 'penalty': ['l1', 'l2'], 'solver': ['liblinear']}\n",
    "lr_grid = GridSearchCV(LogisticRegression(random_state=42), lr_params, cv=5, scoring='f1', n_jobs=-1)\n",
    "lr_grid.fit(X_train, y_train)\n",
    "lr_model = lr_grid.best_estimator_\n",
    "lr_metrics, lr_pred, lr_proba = evaluate_model(lr_model, X_test, y_test, 'Logistic Regression')\n",
    "results['Logistic Regression'] = lr_metrics\n",
    "models['Logistic Regression'] = lr_model\n",
    "plot_confusion_matrix(y_test, lr_pred, 'Logistic Regression')\n",
    "plot_roc_curve(y_test, lr_proba, 'Logistic Regression')"
   ]
  },
  {
   "cell_type": "code",
   "execution_count": null,
   "metadata": {},
   "outputs": [],
   "source": [
    "# Decision Tree\n",
    "print(\"Training Decision Tree...\")\n",
    "dt_params = {'max_depth': [None, 10, 20, 30], 'min_samples_split': [2, 5, 10], 'min_samples_leaf': [1, 2, 4]}\n",
    "dt_grid = GridSearchCV(DecisionTreeClassifier(random_state=42), dt_params, cv=5, scoring='f1', n_jobs=-1)\n",
    "dt_grid.fit(X_train, y_train)\n",
    "dt_model = dt_grid.best_estimator_\n",
    "dt_metrics, dt_pred, dt_proba = evaluate_model(dt_model, X_test, y_test, 'Decision Tree')\n",
    "results['Decision Tree'] = dt_metrics\n",
    "models['Decision Tree'] = dt_model\n",
    "plot_confusion_matrix(y_test, dt_pred, 'Decision Tree')\n",
    "plot_roc_curve(y_test, dt_proba, 'Decision Tree')"
   ]
  },
  {
   "cell_type": "code",
   "execution_count": null,
   "metadata": {},
   "outputs": [],
   "source": [
    "# Random Forest\n",
    "print(\"Training Random Forest...\")\n",
    "rf_params = {'n_estimators': [100, 200, 300], 'max_depth': [None, 10, 20], 'min_samples_split': [2, 5], 'min_samples_leaf': [1, 2]}\n",
    "rf_grid = GridSearchCV(RandomForestClassifier(random_state=42), rf_params, cv=5, scoring='f1', n_jobs=-1)\n",
    "rf_grid.fit(X_train, y_train)\n",
    "rf_model = rf_grid.best_estimator_\n",
    "rf_metrics, rf_pred, rf_proba = evaluate_model(rf_model, X_test, y_test, 'Random Forest')\n",
    "results['Random Forest'] = rf_metrics\n",
    "models['Random Forest'] = rf_model\n",
    "plot_confusion_matrix(y_test, rf_pred, 'Random Forest')\n",
    "plot_roc_curve(y_test, rf_proba, 'Random Forest')"
   ]
  },
  {
   "cell_type": "code",
   "execution_count": null,
   "metadata": {},
   "outputs": [],
   "source": [
    "# SVM\n",
    "print(\"Training SVM...\")\n",
    "svm_params = {'C': [0.1, 1, 10], 'kernel': ['linear', 'rbf'], 'gamma': ['scale', 'auto']}\n",
    "svm_grid = GridSearchCV(SVC(probability=True, random_state=42), svm_params, cv=5, scoring='f1', n_jobs=-1)\n",
    "svm_grid.fit(X_train, y_train)\n",
    "svm_model = svm_grid.best_estimator_\n",
    "svm_metrics, svm_pred, svm_proba = evaluate_model(svm_model, X_test, y_test, 'SVM')\n",
    "results['SVM'] = svm_metrics\n",
    "models['SVM'] = svm_model\n",
    "plot_confusion_matrix(y_test, svm_pred, 'SVM')\n",
    "plot_roc_curve(y_test, svm_proba, 'SVM')"
   ]
  },
  {
   "cell_type": "code",
   "execution_count": null,
   "metadata": {},
   "outputs": [],
   "source": [
    "# KNN\n",
    "print(\"Training KNN...\")\n",
    "knn_params = {'n_neighbors': [3, 5, 7, 9], 'weights': ['uniform', 'distance'], 'p': [1, 2]}\n",
    "knn_grid = GridSearchCV(KNeighborsClassifier(), knn_params, cv=5, scoring='f1', n_jobs=-1)\n",
    "knn_grid.fit(X_train, y_train)\n",
    "knn_model = knn_grid.best_estimator_\n",
    "knn_metrics, knn_pred, knn_proba = evaluate_model(knn_model, X_test, y_test, 'KNN')\n",
    "results['KNN'] = knn_metrics\n",
    "models['KNN'] = knn_model\n",
    "plot_confusion_matrix(y_test, knn_pred, 'KNN')\n",
    "plot_roc_curve(y_test, knn_proba, 'KNN')"
   ]
  },
  {
   "cell_type": "code",
   "execution_count": null,
   "metadata": {},
   "outputs": [],
   "source": [
    "# Naive Bayes\n",
    "print(\"Training Naive Bayes...\")\n",
    "nb_model = GaussianNB()\n",
    "nb_model.fit(X_train, y_train)\n",
    "nb_metrics, nb_pred, nb_proba = evaluate_model(nb_model, X_test, y_test, 'Naive Bayes')\n",
    "results['Naive Bayes'] = nb_metrics\n",
    "models['Naive Bayes'] = nb_model\n",
    "plot_confusion_matrix(y_test, nb_pred, 'Naive Bayes')\n",
    "plot_roc_curve(y_test, nb_proba, 'Naive Bayes')"
   ]
  },
  {
   "cell_type": "code",
   "execution_count": null,
   "metadata": {},
   "outputs": [],
   "source": [
    "# XGBoost\n",
    "print(\"Training XGBoost...\")\n",
    "xgb_params = {'n_estimators': [100, 200], 'max_depth': [3, 6, 9], 'learning_rate': [0.01, 0.1, 0.2], 'subsample': [0.8, 1.0]}\n",
    "xgb_grid = GridSearchCV(XGBClassifier(random_state=42, eval_metric='logloss'), xgb_params, cv=5, scoring='f1', n_jobs=-1)\n",
    "xgb_grid.fit(X_train, y_train)\n",
    "xgb_model = xgb_grid.best_estimator_\n",
    "xgb_metrics, xgb_pred, xgb_proba = evaluate_model(xgb_model, X_test, y_test, 'XGBoost')\n",
    "results['XGBoost'] = xgb_metrics\n",
    "models['XGBoost'] = xgb_model\n",
    "plot_confusion_matrix(y_test, xgb_pred, 'XGBoost')\n",
    "plot_roc_curve(y_test, xgb_proba, 'XGBoost')"
   ]
  },
  {
   "cell_type": "code",
   "execution_count": null,
   "metadata": {},
   "outputs": [],
   "source": [
    "# Neural Networks\n",
    "print(\"Training Neural Networks...\")\n",
    "nn_params = {'hidden_layer_sizes': [(50,), (100,), (50, 50)], 'activation': ['relu', 'tanh'], 'alpha': [0.0001, 0.001]}\n",
    "nn_grid = GridSearchCV(MLPClassifier(random_state=42, max_iter=1000), nn_params, cv=5, scoring='f1', n_jobs=-1)\n",
    "nn_grid.fit(X_train, y_train)\n",
    "nn_model = nn_grid.best_estimator_\n",
    "nn_metrics, nn_pred, nn_proba = evaluate_model(nn_model, X_test, y_test, 'Neural Networks')\n",
    "results['Neural Networks'] = nn_metrics\n",
    "models['Neural Networks'] = nn_model\n",
    "plot_confusion_matrix(y_test, nn_pred, 'Neural Networks')\n",
    "plot_roc_curve(y_test, nn_proba, 'Neural Networks')"
   ]
  },
  {
   "cell_type": "code",
   "execution_count": null,
   "metadata": {},
   "outputs": [],
   "source": [
    "# CatBoost\n",
    "print(\"Training CatBoost...\")\n",
    "cat_params = {'iterations': [100, 200], 'depth': [4, 6, 8], 'learning_rate': [0.01, 0.1, 0.2], 'l2_leaf_reg': [1, 3, 5]}\n",
    "cat_grid = GridSearchCV(CatBoostClassifier(random_state=42, verbose=False), cat_params, cv=5, scoring='f1', n_jobs=-1)\n",
    "cat_grid.fit(X_train, y_train)\n",
    "cat_model = cat_grid.best_estimator_\n",
    "cat_metrics, cat_pred, cat_proba = evaluate_model(cat_model, X_test, y_test, 'CatBoost')\n",
    "results['CatBoost'] = cat_metrics\n",
    "models['CatBoost'] = cat_model\n",
    "plot_confusion_matrix(y_test, cat_pred, 'CatBoost')\n",
    "plot_roc_curve(y_test, cat_proba, 'CatBoost')"
   ]
  }
 ],
 "metadata": {
  "kernelspec": {
   "display_name": "Python 3",
   "language": "python",
   "name": "python3"
  },
  "language_info": {
   "codemirror_mode": {
    "name": "ipython",
    "version": 3
   },
   "file_extension": ".py",
   "mimetype": "text/x-python",
   "name": "python",
   "nbconvert_exporter": "python",
   "pygments_lexer": "ipython3",
   "version": "3.8.5"
  }
 },
 "nbformat": 4,
 "nbformat_minor": 4
}
  "kernelspec": {
   "display_name": "Python 3",
   "language": "python",
   "name": "python3"
  },
  "language_info": {
   "codemirror_mode": {
    "name": "ipython",
    "version": 3
   },
   "file_extension": ".py",
   "mimetype": "text/x-python",
   "name": "python",
   "nbconvert_exporter": "python",
   "pygments_lexer": "ipython3",
   "version": "3.8.5"
  }
 },
 "nbformat": 4,
 "nbformat_minor": 4
}